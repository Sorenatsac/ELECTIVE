{
  "nbformat": 4,
  "nbformat_minor": 0,
  "metadata": {
    "colab": {
      "name": "Biggeners.ipynb",
      "provenance": [],
      "collapsed_sections": [],
      "toc_visible": true,
      "authorship_tag": "ABX9TyMpxy8h3nh2z3EuI686VIuc",
      "include_colab_link": true
    },
    "kernelspec": {
      "name": "python3",
      "display_name": "Python 3"
    },
    "language_info": {
      "name": "python"
    }
  },
  "cells": [
    {
      "cell_type": "markdown",
      "metadata": {
        "id": "view-in-github",
        "colab_type": "text"
      },
      "source": [
        "<a href=\"https://colab.research.google.com/github/Sorenatsac/ELECTIVE/blob/main/Biggeners.ipynb\" target=\"_parent\"><img src=\"https://colab.research.google.com/assets/colab-badge.svg\" alt=\"Open In Colab\"/></a>"
      ]
    },
    {
      "cell_type": "code",
      "execution_count": null,
      "metadata": {
        "id": "x2NVM43jisZB",
        "colab": {
          "base_uri": "https://localhost:8080/"
        },
        "outputId": "67c9141d-2870-440c-cde0-4b24e28b89b9"
      },
      "outputs": [
        {
          "output_type": "stream",
          "name": "stdout",
          "text": [
            "i like Pizza.\n",
            "i like eating Pizza with my friend, Tina.\n",
            "we like to drink Soda, too.\n"
          ]
        }
      ],
      "source": [
        "favorite_food = \"Pizza\"\n",
        "friend_Name = \"Tina\"\n",
        "favorite_drink = \"Soda\"\n",
        "\n",
        "print(\"i like \" + favorite_food + \".\")\n",
        "print(\"i like eating \" + favorite_food + \" with my friend, \" + friend_Name + \".\")\n",
        "print(\"we like to drink \" + favorite_drink + \", too.\")"
      ]
    },
    {
      "cell_type": "code",
      "source": [
        ""
      ],
      "metadata": {
        "id": "K_hxZ48c8GEu"
      },
      "execution_count": null,
      "outputs": []
    },
    {
      "cell_type": "code",
      "source": [
        "print(5)\n",
        "print(\"CAKES\")"
      ],
      "metadata": {
        "id": "ghm3ntSri08v",
        "colab": {
          "base_uri": "https://localhost:8080/"
        },
        "outputId": "ef503630-c8f6-45f8-9728-b74879b0fa0b"
      },
      "execution_count": null,
      "outputs": [
        {
          "output_type": "stream",
          "name": "stdout",
          "text": [
            "5\n",
            "CAKES\n"
          ]
        }
      ]
    },
    {
      "cell_type": "code",
      "source": [
        " print(\"Hello World\")"
      ],
      "metadata": {
        "colab": {
          "base_uri": "https://localhost:8080/"
        },
        "id": "LltR8O7ci7xV",
        "outputId": "e299870a-0578-446b-9d0e-8b5ed34064aa"
      },
      "execution_count": null,
      "outputs": [
        {
          "output_type": "stream",
          "name": "stdout",
          "text": [
            "Hello World\n"
          ]
        }
      ]
    },
    {
      "cell_type": "code",
      "source": [
        "food =\"SOIMAI\"\n",
        "print(\"i like eating \"  + food + \".\")\n"
      ],
      "metadata": {
        "colab": {
          "base_uri": "https://localhost:8080/"
        },
        "id": "TiDPe_Ra8H-G",
        "outputId": "6f8c249d-167d-4654-effe-27fd915d9e98"
      },
      "execution_count": null,
      "outputs": [
        {
          "output_type": "stream",
          "name": "stdout",
          "text": [
            "i like eating SOIMAI.\n"
          ]
        }
      ]
    },
    {
      "cell_type": "code",
      "source": [
        "character_job = \"pirate\"\n",
        "character_ride = \"ship\"\n",
        "character_souvenir = \"gold\"\n",
        "character_pet = \"monkey\"\n",
        "\n",
        "print(\"there was once a \"  + character_job + \" who love adventure. \")\n",
        "print(\"the \" + character_job + \" would take her \" + character_ride + \" to unknown places.\")\n",
        "print(\"she brings home a lot of \" + character_souvenir + \".\")\n",
        "print(\"Then she goes home to her pet \" + character_pet + \" Gigi.\")\n"
      ],
      "metadata": {
        "colab": {
          "base_uri": "https://localhost:8080/"
        },
        "id": "xlRvQPYJ8XX4",
        "outputId": "cddc6e39-bdbd-4a8f-9e93-8f6b5106f5ba"
      },
      "execution_count": null,
      "outputs": [
        {
          "output_type": "stream",
          "name": "stdout",
          "text": [
            "there was once a pirate who love adventure. \n",
            "the pirate would take her ship to unknown places.\n",
            "she brings home a lot of gold.\n",
            "Then she goes home to her pet monkey Gigi.\n"
          ]
        }
      ]
    },
    {
      "cell_type": "code",
      "source": [
        "print (\"Roses are red, Violets are blue\")\n",
        "if 10 > 7:\n",
        "  print(\"Ten is greater than seven!\")\n",
        "if 16 < 42:\n",
        "  print(\"Sixteen is less than forty-two!\")"
      ],
      "metadata": {
        "colab": {
          "base_uri": "https://localhost:8080/"
        },
        "id": "D2e8z5tUEx1P",
        "outputId": "c835e907-3e67-4e32-a932-d63f683f2d2f"
      },
      "execution_count": null,
      "outputs": [
        {
          "output_type": "stream",
          "name": "stdout",
          "text": [
            "Roses are red, Violets are blue\n",
            "Ten is greater than seven!\n",
            "Sixteen is less than forty-two!\n"
          ]
        }
      ]
    },
    {
      "cell_type": "code",
      "source": [
        "if 10 > 7:\n",
        "  print(\"Ten is greater than seven!\")\n",
        "if 10 < 7:\n",
        "  print(\"Sixteen is less than forty-two!\")"
      ],
      "metadata": {
        "colab": {
          "base_uri": "https://localhost:8080/"
        },
        "id": "M5sOBMfNFgKW",
        "outputId": "897ba943-4688-4e8c-8d31-3a3f1c741ee6"
      },
      "execution_count": null,
      "outputs": [
        {
          "output_type": "stream",
          "name": "stdout",
          "text": [
            "Ten is greater than seven!\n"
          ]
        }
      ]
    },
    {
      "cell_type": "code",
      "source": [
        "x = \"I like cakes.\"\n",
        "y = \"Rise\"\n",
        "z = \"we like to drink milkshakes, too.\"\n",
        "print(y, z, x, food)"
      ],
      "metadata": {
        "colab": {
          "base_uri": "https://localhost:8080/"
        },
        "id": "bBfH7pzeHSkk",
        "outputId": "aeff2106-e825-4eba-93c6-ffd07af4ced3"
      },
      "execution_count": null,
      "outputs": [
        {
          "output_type": "stream",
          "name": "stdout",
          "text": [
            "Rise we like to drink milkshakes, too. I like cakes. SOIMAI\n"
          ]
        }
      ]
    },
    {
      "cell_type": "code",
      "source": [
        "print(\"how can i make a comment?\")"
      ],
      "metadata": {
        "colab": {
          "base_uri": "https://localhost:8080/"
        },
        "id": "Mk9rAPQbJDLW",
        "outputId": "45a9f252-13ac-46d2-8fd6-34d9dcef4c8b"
      },
      "execution_count": null,
      "outputs": [
        {
          "output_type": "stream",
          "name": "stdout",
          "text": [
            "how can i make a comment?\n"
          ]
        }
      ]
    },
    {
      "cell_type": "code",
      "source": [
        ""
      ],
      "metadata": {
        "id": "vERWri1hOYTX"
      },
      "execution_count": null,
      "outputs": []
    },
    {
      "cell_type": "code",
      "source": [
        "name = input(\"enter your name:\")\n",
        "print(\"hi, \" + name + \"!\")"
      ],
      "metadata": {
        "colab": {
          "base_uri": "https://localhost:8080/"
        },
        "id": "X3yYbXKLOaJW",
        "outputId": "810078de-61a7-47c5-9437-1a0f8424d2c5"
      },
      "execution_count": null,
      "outputs": [
        {
          "output_type": "stream",
          "name": "stdout",
          "text": [
            "enter your name:raven\n",
            "hi, raven!\n"
          ]
        }
      ]
    },
    {
      "cell_type": "code",
      "source": [
        ""
      ],
      "metadata": {
        "id": "l8mY3Tb0O1Ba"
      },
      "execution_count": null,
      "outputs": []
    },
    {
      "cell_type": "code",
      "source": [
        "def nice_day(name):\n",
        "    print(\"Have a nice day, \" + name + \"!\")\n",
        "\n",
        "nice_day(\"Rose\")"
      ],
      "metadata": {
        "colab": {
          "base_uri": "https://localhost:8080/"
        },
        "id": "_bMPcJ9yKv0u",
        "outputId": "fd3a5262-b066-48ef-a06d-95bdee4fcfde"
      },
      "execution_count": null,
      "outputs": [
        {
          "output_type": "stream",
          "name": "stdout",
          "text": [
            "Have a nice day, Rose!\n"
          ]
        }
      ]
    },
    {
      "cell_type": "code",
      "source": [
        "num1 = int(input(\"Please enter your 1st number\"))\n",
        "num2 = int(input(\"Please enter your 2nd number\"))\n",
        "\n",
        "print(\"your two numbers are:\" , num1, \"and\" , num2)"
      ],
      "metadata": {
        "colab": {
          "base_uri": "https://localhost:8080/"
        },
        "id": "jPciZvBEO14v",
        "outputId": "afd41ea2-ded4-426f-e058-8736968f1288"
      },
      "execution_count": null,
      "outputs": [
        {
          "output_type": "stream",
          "name": "stdout",
          "text": [
            "Please enter your 1st number2\n",
            "Please enter your 2nd number3\n",
            "your two numbers are: 2 and 3\n"
          ]
        }
      ]
    },
    {
      "cell_type": "code",
      "source": [
        "def addNum(num3, num4):\n",
        "    total = num3 + num4\n",
        "    return (total)\n",
        "\n",
        "num3 = int(input(\"Please enter your first number: \"))\n",
        "num4 = int(input(\"Please enter your second number: \"))\n",
        "\n",
        "print(\"total: \", addNum(num3, num4))\n"
      ],
      "metadata": {
        "colab": {
          "base_uri": "https://localhost:8080/"
        },
        "id": "i31MfnstPjgs",
        "outputId": "0a9a8396-5491-4977-eea7-31d582651217"
      },
      "execution_count": null,
      "outputs": [
        {
          "output_type": "stream",
          "name": "stdout",
          "text": [
            "Please enter your first number: 3\n",
            "Please enter your second number: 3\n",
            "total:  6\n"
          ]
        }
      ]
    },
    {
      "cell_type": "code",
      "source": [
        "name = input(\"Enter you Name: \")\n",
        "age = input(\"Enter your age: \")\n",
        "favorite_color = input(\"Enter your favorite color: \")\n",
        "favorite_movie = input(\"Enter your favorite movie: \")\n",
        "mobile_num = int(input(\"Enter your Mobile Number: \"))\n",
        "email = input(\"Email Address: \")"
      ],
      "metadata": {
        "colab": {
          "base_uri": "https://localhost:8080/"
        },
        "id": "STX8Al6iSM7d",
        "outputId": "373f0c15-9a6a-40f3-fa04-1d83837d902d"
      },
      "execution_count": null,
      "outputs": [
        {
          "name": "stdout",
          "output_type": "stream",
          "text": [
            "Enter you Name: Raven\n",
            "Enter your age: 25\n",
            "Enter your favorite color: Blue\n",
            "Enter your favorite movie: Ji-joe\n",
            "Enter your Mobile Number: 09953774871\n",
            "Email Address: castaneros_raven@y8.com\n"
          ]
        }
      ]
    },
    {
      "cell_type": "markdown",
      "source": [
        ""
      ],
      "metadata": {
        "id": "wEkbPVbYSMlm"
      }
    },
    {
      "cell_type": "code",
      "source": [
        "print(1 > 7)\n",
        "#Prints True"
      ],
      "metadata": {
        "colab": {
          "base_uri": "https://localhost:8080/"
        },
        "id": "pyp_Ha4tXSmx",
        "outputId": "de259062-8f48-4d64-de50-c468ca5ef0d8"
      },
      "execution_count": null,
      "outputs": [
        {
          "output_type": "stream",
          "name": "stdout",
          "text": [
            "False\n"
          ]
        }
      ]
    },
    {
      "cell_type": "markdown",
      "source": [
        "convert to string"
      ],
      "metadata": {
        "id": "KYdfNorIYkac"
      }
    },
    {
      "cell_type": "code",
      "source": [
        "print(str(73911))\n",
        "#Prints '73911'"
      ],
      "metadata": {
        "colab": {
          "base_uri": "https://localhost:8080/"
        },
        "id": "7ukcKaehXmrE",
        "outputId": "82ab1300-86ae-4738-828a-191ee58be239"
      },
      "execution_count": null,
      "outputs": [
        {
          "output_type": "stream",
          "name": "stdout",
          "text": [
            "73911\n"
          ]
        }
      ]
    },
    {
      "cell_type": "markdown",
      "source": [
        "convert to float"
      ],
      "metadata": {
        "id": "mnNm0qSXYf_E"
      }
    },
    {
      "cell_type": "code",
      "source": [
        "print(list(4302))\n",
        "#Prints 4302.0"
      ],
      "metadata": {
        "colab": {
          "base_uri": "https://localhost:8080/"
        },
        "id": "lg6NJpnAX7rd",
        "outputId": "a60e78b2-1127-4fea-c427-c425bcf63c5f"
      },
      "execution_count": null,
      "outputs": [
        {
          "output_type": "stream",
          "name": "stdout",
          "text": [
            "['4', '3', '0', '2']\n"
          ]
        }
      ]
    },
    {
      "cell_type": "markdown",
      "source": [
        "convert to integer"
      ],
      "metadata": {
        "id": "r-fChYhQYYg9"
      }
    },
    {
      "cell_type": "code",
      "source": [
        "print(int(3299.35640))\n",
        "#Prints 3299"
      ],
      "metadata": {
        "colab": {
          "base_uri": "https://localhost:8080/"
        },
        "id": "Q8xkXrQEYD-s",
        "outputId": "39526d5a-4ec2-4cc3-d8dd-24c01e7de137"
      },
      "execution_count": null,
      "outputs": [
        {
          "output_type": "stream",
          "name": "stdout",
          "text": [
            "3299\n"
          ]
        }
      ]
    },
    {
      "cell_type": "markdown",
      "source": [
        "tuple"
      ],
      "metadata": {
        "id": "6ePoie1ZXSdu"
      }
    },
    {
      "cell_type": "code",
      "source": [
        "print(tuple(\"CASTAÑEROS\"))\n"
      ],
      "metadata": {
        "colab": {
          "base_uri": "https://localhost:8080/"
        },
        "id": "5AsNKgWBYMaE",
        "outputId": "5e8ccb92-e28a-49dc-964d-9772df340076"
      },
      "execution_count": null,
      "outputs": [
        {
          "output_type": "stream",
          "name": "stdout",
          "text": [
            "('C', 'A', 'S', 'T', 'A', 'Ñ', 'E', 'R', 'O', 'S')\n"
          ]
        }
      ]
    },
    {
      "cell_type": "code",
      "source": [
        "print(22 > 21)\n",
        "print(345 == 11)\n",
        "print(673 > 343)\n",
        "#Print True\n"
      ],
      "metadata": {
        "colab": {
          "base_uri": "https://localhost:8080/"
        },
        "id": "erek8CbfZpZd",
        "outputId": "6c9dc185-313d-40df-c868-20d81f7abaf4"
      },
      "execution_count": null,
      "outputs": [
        {
          "output_type": "stream",
          "name": "stdout",
          "text": [
            "True\n",
            "False\n",
            "True\n"
          ]
        }
      ]
    },
    {
      "cell_type": "code",
      "source": [
        "name = input(\"What's your name?\")\n",
        "print(name)\n",
        "print(\"As in: \", tuple(name) )"
      ],
      "metadata": {
        "colab": {
          "base_uri": "https://localhost:8080/"
        },
        "id": "WFUTKJk7b3ZN",
        "outputId": "47d6365a-a033-4b3b-e548-8b4dfb310637"
      },
      "execution_count": null,
      "outputs": [
        {
          "output_type": "stream",
          "name": "stdout",
          "text": [
            "What's your name?Tina\n",
            "Tina\n",
            "As in:  ('T', 'i', 'n', 'a')\n"
          ]
        }
      ]
    },
    {
      "cell_type": "code",
      "source": [
        "x = 3.1415\n",
        "y = int(x)\n",
        "print(y)"
      ],
      "metadata": {
        "colab": {
          "base_uri": "https://localhost:8080/"
        },
        "id": "rq5V4UvocTmm",
        "outputId": "c8e66328-ae99-4c5a-f7da-2b2146c336e6"
      },
      "execution_count": null,
      "outputs": [
        {
          "output_type": "stream",
          "name": "stdout",
          "text": [
            "3\n"
          ]
        }
      ]
    },
    {
      "cell_type": "code",
      "source": [
        "class Customers:\n",
        "      greeting = \"Welcome to Cyber Dungeon!\"\n",
        "c_1 = Customers()\n",
        "c_1.name = \"Godfrey\"\n",
        "c_1.heroes = \"Fairy Warrior\"\n",
        "c_1.level = \"Savage\"\n",
        "c_1.power = 2500\n",
        "\n",
        "print(Customers.greeting)\n",
        "print(c_1.heroes)\n",
        "print(c_1.power)\n"
      ],
      "metadata": {
        "colab": {
          "base_uri": "https://localhost:8080/"
        },
        "id": "1Z4sj8LasOS1",
        "outputId": "7e9dac7c-cde5-4ae0-b2fd-675d481e8f2d"
      },
      "execution_count": null,
      "outputs": [
        {
          "output_type": "stream",
          "name": "stdout",
          "text": [
            "Welcome to Cyber Dungeon!\n",
            "Fairy Warrior\n",
            "2500\n"
          ]
        }
      ]
    },
    {
      "cell_type": "markdown",
      "source": [
        "3.8 Coding Exercise"
      ],
      "metadata": {
        "id": "iP-c9fhu2pMN"
      }
    },
    {
      "cell_type": "code",
      "source": [
        "print(217 * 6)\n",
        "print(600 + 35234)\n",
        "print(67 // 12)\n",
        "print(56329 % 982)\n",
        "print(34 ** 5)\n"
      ],
      "metadata": {
        "colab": {
          "base_uri": "https://localhost:8080/"
        },
        "id": "fiK3jIBM2sA9",
        "outputId": "27a96f2e-8bfb-4ed6-98c3-85838cd09e74"
      },
      "execution_count": null,
      "outputs": [
        {
          "output_type": "stream",
          "name": "stdout",
          "text": [
            "1302\n",
            "35834\n",
            "5\n",
            "355\n",
            "45435424\n"
          ]
        }
      ]
    },
    {
      "cell_type": "markdown",
      "source": [
        "3.12 coding exercise"
      ],
      "metadata": {
        "id": "b1rSkvNyA479"
      }
    },
    {
      "cell_type": "code",
      "source": [
        "my_age = 25\n",
        "mom_age = 51\n",
        "dad_age = 52\n",
        "\n",
        "print(mom_age < dad_age and my_age == 25)\n",
        "print(mom_age == 61)\n",
        "print(mom_age > 34 or dad_age == 52)\n",
        "print(mom_age >= 51)\n",
        "print(not(dad_age <= 400 and my_age == 25))"
      ],
      "metadata": {
        "colab": {
          "base_uri": "https://localhost:8080/"
        },
        "id": "74b5QdfIA74t",
        "outputId": "a441f207-5431-41a0-8222-b0c8a9c28ba1"
      },
      "execution_count": null,
      "outputs": [
        {
          "output_type": "stream",
          "name": "stdout",
          "text": [
            "True\n",
            "False\n",
            "True\n",
            "True\n",
            "False\n"
          ]
        }
      ]
    },
    {
      "cell_type": "markdown",
      "source": [
        "3.14 coding challenge"
      ],
      "metadata": {
        "id": "DmvyvyHtDcYG"
      }
    },
    {
      "cell_type": "code",
      "source": [
        "x = 4345\n",
        "y = 953\n",
        "print( x + y)"
      ],
      "metadata": {
        "colab": {
          "base_uri": "https://localhost:8080/"
        },
        "id": "TEt8AjCTDfTl",
        "outputId": "754f72be-e872-4f64-f27d-2b1acfa9d66d"
      },
      "execution_count": null,
      "outputs": [
        {
          "output_type": "stream",
          "name": "stdout",
          "text": [
            "5298\n"
          ]
        }
      ]
    },
    {
      "cell_type": "code",
      "source": [
        "x = 324\n",
        "print(x == 210 or x < 527)"
      ],
      "metadata": {
        "colab": {
          "base_uri": "https://localhost:8080/"
        },
        "id": "D6szTXe3DtI9",
        "outputId": "cae91e5d-ffd2-4d97-bfd8-1908ec4e24c7"
      },
      "execution_count": null,
      "outputs": [
        {
          "output_type": "stream",
          "name": "stdout",
          "text": [
            "True\n"
          ]
        }
      ]
    },
    {
      "cell_type": "markdown",
      "source": [
        ""
      ],
      "metadata": {
        "id": "HZbyLOWLD56e"
      }
    },
    {
      "cell_type": "code",
      "source": [
        "class Cars:\n",
        "      looks = \"Cool!\"\n",
        "Audi = Cars()\n",
        "print(Audi.looks)"
      ],
      "metadata": {
        "colab": {
          "base_uri": "https://localhost:8080/"
        },
        "id": "Bh9gWekhEVN2",
        "outputId": "3ec3a5ab-ae31-40c1-c900-48bf8b2df906"
      },
      "execution_count": null,
      "outputs": [
        {
          "output_type": "stream",
          "name": "stdout",
          "text": [
            "Cool!\n"
          ]
        }
      ]
    },
    {
      "cell_type": "code",
      "source": [
        "num1 = 9\n",
        "print(num1 ** 5)"
      ],
      "metadata": {
        "colab": {
          "base_uri": "https://localhost:8080/"
        },
        "id": "S_QNsh1DEwA1",
        "outputId": "260e050c-c66b-40f1-dc37-4864162a0ac3"
      },
      "execution_count": null,
      "outputs": [
        {
          "output_type": "stream",
          "name": "stdout",
          "text": [
            "59049\n"
          ]
        }
      ]
    },
    {
      "cell_type": "code",
      "source": [
        "amount_of_soaps = 33\n",
        "amount_of_towels = 33\n",
        "print(amount_of_soaps != amount_of_towels)"
      ],
      "metadata": {
        "colab": {
          "base_uri": "https://localhost:8080/"
        },
        "id": "SSpCfkXkE_3H",
        "outputId": "bd42c8f6-b955-4771-e6d8-beabdd15879e"
      },
      "execution_count": null,
      "outputs": [
        {
          "output_type": "stream",
          "name": "stdout",
          "text": [
            "False\n"
          ]
        }
      ]
    },
    {
      "cell_type": "markdown",
      "source": [
        "4.4 coding exerise"
      ],
      "metadata": {
        "id": "an0nl-XtMH0X"
      }
    },
    {
      "cell_type": "code",
      "source": [
        "x = 332\n",
        "y = 2031\n",
        "if x >= y:\n",
        "      print(\"X is greater than or equal to y.\")\n",
        "elif x ==y:\n",
        "      print(\"x is equal to y.\")\n",
        "else:\n",
        "    print(\"x is less than y\")"
      ],
      "metadata": {
        "colab": {
          "base_uri": "https://localhost:8080/"
        },
        "id": "D3A9SgvBMKNP",
        "outputId": "8db4b7f1-2792-4819-fdcd-82e9b1f1b188"
      },
      "execution_count": null,
      "outputs": [
        {
          "output_type": "stream",
          "name": "stdout",
          "text": [
            "x is less than y\n"
          ]
        }
      ]
    },
    {
      "cell_type": "markdown",
      "source": [
        "4.8 coding exercise"
      ],
      "metadata": {
        "id": "8qQoJR2nQQj2"
      }
    },
    {
      "cell_type": "code",
      "source": [
        "furniture = [\"table\", \"chair\", \"cabinet\", \"desk\", \"couch\"]\n",
        "for x in furniture:\n",
        "    if x == \"cabinet\":\n",
        "        continue\n",
        "    print(x)"
      ],
      "metadata": {
        "colab": {
          "base_uri": "https://localhost:8080/"
        },
        "id": "QY6IQOOkQatH",
        "outputId": "aeadfd77-6b31-4ebc-c3c8-8929acb98014"
      },
      "execution_count": null,
      "outputs": [
        {
          "output_type": "stream",
          "name": "stdout",
          "text": [
            "table\n",
            "chair\n",
            "desk\n",
            "couch\n"
          ]
        }
      ]
    },
    {
      "cell_type": "code",
      "source": [
        "i = 1\n",
        "while i < 15:\n",
        "  print(i)\n",
        "  i += 1\n",
        "else:\n",
        "    print(\"i is no longer less than 15.\")"
      ],
      "metadata": {
        "colab": {
          "base_uri": "https://localhost:8080/"
        },
        "id": "fnDeWlqfQzjp",
        "outputId": "14082765-00dd-43e3-9bdf-99dfdc218a25"
      },
      "execution_count": null,
      "outputs": [
        {
          "output_type": "stream",
          "name": "stdout",
          "text": [
            "1\n",
            "2\n",
            "3\n",
            "4\n",
            "5\n",
            "6\n",
            "7\n",
            "8\n",
            "9\n",
            "10\n",
            "11\n",
            "12\n",
            "13\n",
            "14\n",
            "i is no longer less than 15.\n"
          ]
        }
      ]
    },
    {
      "cell_type": "markdown",
      "source": [
        "4.9 coding challenge"
      ],
      "metadata": {
        "id": "einth78KRBo3"
      }
    },
    {
      "cell_type": "code",
      "source": [
        "clothes =[\"shirt\", \"socks\", \"pants\", \"gloves\", \"shoes\"]\n",
        "for x in clothes:\n",
        "    print(x)\n",
        "    if x == \"pants\":\n",
        "      break"
      ],
      "metadata": {
        "colab": {
          "base_uri": "https://localhost:8080/"
        },
        "id": "-uzlIxvrRA8R",
        "outputId": "3b8dd08f-7d87-4aca-d79a-54ec8c4742d6"
      },
      "execution_count": null,
      "outputs": [
        {
          "output_type": "stream",
          "name": "stdout",
          "text": [
            "shirt\n",
            "socks\n",
            "pants\n"
          ]
        }
      ]
    },
    {
      "cell_type": "code",
      "source": [
        "t = 132\n",
        "u = 151\n",
        "if t > u:\n",
        "  print(\"t is greater than u.\")\n",
        "elif t < u:\n",
        "  print(\"t is less than u.\")"
      ],
      "metadata": {
        "colab": {
          "base_uri": "https://localhost:8080/"
        },
        "id": "h9PuwMlwRfe_",
        "outputId": "1eb9e81a-63fe-444c-f34c-8561dfa9ad09"
      },
      "execution_count": null,
      "outputs": [
        {
          "output_type": "stream",
          "name": "stdout",
          "text": [
            "t is less than u.\n"
          ]
        }
      ]
    },
    {
      "cell_type": "code",
      "source": [
        "people = [\"doctor\", \"teacher\", \"neighbor\"]\n",
        "adjectives = [\"friendly\", \"kind\", \"smart\"]\n",
        "for x in people:\n",
        "    for y in adjectives:\n",
        "        print(y, x)"
      ],
      "metadata": {
        "colab": {
          "base_uri": "https://localhost:8080/"
        },
        "id": "Gkv7cJ8XTWhz",
        "outputId": "60e960b1-1645-40ed-a50f-50434ef9a2cb"
      },
      "execution_count": null,
      "outputs": [
        {
          "output_type": "stream",
          "name": "stdout",
          "text": [
            "friendly doctor\n",
            "kind doctor\n",
            "smart doctor\n",
            "friendly teacher\n",
            "kind teacher\n",
            "smart teacher\n",
            "friendly neighbor\n",
            "kind neighbor\n",
            "smart neighbor\n"
          ]
        }
      ]
    },
    {
      "cell_type": "code",
      "source": [
        "for x in range(4) :\n",
        "  print (x)"
      ],
      "metadata": {
        "colab": {
          "base_uri": "https://localhost:8080/"
        },
        "id": "yRAmuS0AVI03",
        "outputId": "633f2296-523c-4ac4-ec24-cc504e570b68"
      },
      "execution_count": null,
      "outputs": [
        {
          "output_type": "stream",
          "name": "stdout",
          "text": [
            "0\n",
            "1\n",
            "2\n",
            "3\n"
          ]
        }
      ]
    },
    {
      "cell_type": "code",
      "source": [
        "for i in range(9):\n",
        "    if i == 5:\n",
        "      continue\n",
        "    print(i)"
      ],
      "metadata": {
        "colab": {
          "base_uri": "https://localhost:8080/"
        },
        "id": "wVtr70egVjrH",
        "outputId": "8a0aa608-e002-4693-d8cf-1be3d0a117f0"
      },
      "execution_count": null,
      "outputs": [
        {
          "output_type": "stream",
          "name": "stdout",
          "text": [
            "0\n",
            "1\n",
            "2\n",
            "3\n",
            "4\n",
            "6\n",
            "7\n",
            "8\n"
          ]
        }
      ]
    },
    {
      "cell_type": "code",
      "source": [
        "device = \"laptop\"\n",
        "dinner = \"spaghetti\"\n",
        "print(\"I eat \" + dinner +  \"while watching movies on my\" + device + \".\")"
      ],
      "metadata": {
        "colab": {
          "base_uri": "https://localhost:8080/"
        },
        "id": "ZBNwImZSYrfn",
        "outputId": "5fc754bd-7471-4fe4-b3d1-d758c5ce0d15"
      },
      "execution_count": null,
      "outputs": [
        {
          "output_type": "stream",
          "name": "stdout",
          "text": [
            "I eat spaghettiwhile watching movies on mylaptop.\n"
          ]
        }
      ]
    },
    {
      "cell_type": "code",
      "source": [
        "class ClubMembers:\n",
        "    def __init__(self, name, birthday, age, favorite_food, goal):\n",
        "      self.name = name\n",
        "      self.birthday = birthday\n",
        "      self.age = age\n",
        "      self.favorite_food = favorite_food\n",
        "      self.goal = goal\n",
        "\n",
        "      def display1(self):\n",
        "          print(\"Name:\", self.name)\n",
        "          print(\"Birthday:\", self.birthday)\n",
        "          print(\"Age:\", self.age)\n",
        "          print(\"Favorite food:\", self.favorite_food)\n",
        "          print(\"Goal:\", self.gaol)\n",
        "\n",
        "m_1 = ClubMembers(\"Tom\", \"January 16\", 14, \"Ice cream\", \"to be happy\")\n",
        "display1()"
      ],
      "metadata": {
        "colab": {
          "base_uri": "https://localhost:8080/"
        },
        "id": "eJz9bZ-d71ci",
        "outputId": "29341682-aae6-47b9-db30-49fe05b51015"
      },
      "execution_count": null,
      "outputs": [
        {
          "output_type": "error",
          "ename": "NameError",
          "evalue": "ignored",
          "traceback": [
            "\u001b[0;31m---------------------------------------------------------------------------\u001b[0m",
            "\u001b[0;31mNameError\u001b[0m                                 Traceback (most recent call last)",
            "\u001b[0;32m<ipython-input-77-06a5cbd6e011>\u001b[0m in \u001b[0;36m<module>\u001b[0;34m()\u001b[0m\n\u001b[1;32m     15\u001b[0m \u001b[0;34m\u001b[0m\u001b[0m\n\u001b[1;32m     16\u001b[0m \u001b[0mm_1\u001b[0m \u001b[0;34m=\u001b[0m \u001b[0mClubMembers\u001b[0m\u001b[0;34m(\u001b[0m\u001b[0;34m\"Tom\"\u001b[0m\u001b[0;34m,\u001b[0m \u001b[0;34m\"January 16\"\u001b[0m\u001b[0;34m,\u001b[0m \u001b[0;36m14\u001b[0m\u001b[0;34m,\u001b[0m \u001b[0;34m\"Ice cream\"\u001b[0m\u001b[0;34m,\u001b[0m \u001b[0;34m\"to be happy\"\u001b[0m\u001b[0;34m)\u001b[0m\u001b[0;34m\u001b[0m\u001b[0;34m\u001b[0m\u001b[0m\n\u001b[0;32m---> 17\u001b[0;31m \u001b[0mdisplay1\u001b[0m\u001b[0;34m(\u001b[0m\u001b[0;34m)\u001b[0m\u001b[0;34m\u001b[0m\u001b[0;34m\u001b[0m\u001b[0m\n\u001b[0m",
            "\u001b[0;31mNameError\u001b[0m: name 'display1' is not defined"
          ]
        }
      ]
    }
  ]
}