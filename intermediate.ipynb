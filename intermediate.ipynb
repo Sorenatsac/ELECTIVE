{
  "nbformat": 4,
  "nbformat_minor": 0,
  "metadata": {
    "colab": {
      "name": "intermediate.ipynb",
      "provenance": [],
      "collapsed_sections": [],
      "authorship_tag": "ABX9TyPRcWaaxs/BojjY6KEDAHI0",
      "include_colab_link": true
    },
    "kernelspec": {
      "name": "python3",
      "display_name": "Python 3"
    },
    "language_info": {
      "name": "python"
    }
  },
  "cells": [
    {
      "cell_type": "markdown",
      "metadata": {
        "id": "view-in-github",
        "colab_type": "text"
      },
      "source": [
        "<a href=\"https://colab.research.google.com/github/Sorenatsac/ELECTIVE/blob/main/intermediate.ipynb\" target=\"_parent\"><img src=\"https://colab.research.google.com/assets/colab-badge.svg\" alt=\"Open In Colab\"/></a>"
      ]
    },
    {
      "cell_type": "markdown",
      "source": [
        "1.5 Coding Exercises"
      ],
      "metadata": {
        "id": "EPifh1Gav4qo"
      }
    },
    {
      "cell_type": "code",
      "execution_count": null,
      "metadata": {
        "id": "zb9ux2d1gF3b"
      },
      "outputs": [],
      "source": [
        "class Customers:\n",
        "    greeting = \"Welcome to Coffee Palace!\"\n",
        "\n",
        "    def __init__(self, name, beverage, food, total):\n",
        "      self.name = name\n",
        "      self.beverage = beverage\n",
        "      self.food = food\n",
        "      self.total = total\n",
        "\n",
        "c_1 = Customers(\"Nate\", \"Espresso\", \"Pastami on rye\", \"220\")\n",
        "c_2 = Customers(\"Elaine\", \"Straberry Frappuccino\", \"Tuna Wrap\", \"270\")\n",
        "c_3 = Customers(\"Samirah\", \"ice caffe latte\", \"Cinnamon roll\", \"225\")\n",
        "c_4 = Customers(\"kerry\", \"Caramel macchiato\", \"Glazed doughnute\", \"230\")\n",
        "c_5 = Customers(\"Paz\", \"Iced tea\", \"Blueberry pancakes\", \"315\")\n",
        "\n",
        "print(Customers.greeting)\n",
        "print(c_2.name)\n",
        "print(c_2.beverage)\n",
        "print(c_2.food)\n",
        "print(c_2.total)\n",
        "print(Customers.greeting)\n",
        "print(c_4.name)\n",
        "print(c_4.beverage)\n",
        "print(c_4.food)\n",
        "print(c_4.total)"
      ]
    },
    {
      "cell_type": "markdown",
      "source": [
        "1.9 Coding Exercises\n",
        "\n"
      ],
      "metadata": {
        "id": "lb1FP7sYv3_Z"
      }
    },
    {
      "cell_type": "code",
      "source": [
        "class ClubMembers:\n",
        "    def __init__(self, name, birthday, age, favorite_food, goal):\n",
        "      self.name = name\n",
        "      self.birthday = birthday\n",
        "      self.age = age\n",
        "      self.favorite_food = favorite_food\n",
        "      self.goal = goal\n",
        "\n",
        "    def display1(self):\n",
        "          print(\"Name:\", self.name)\n",
        "          print(\"Birthday:\", self.birthday)\n",
        "          print(\"Age:\", self.age)\n",
        "          print(\"Favorite food:\", self.favorite_food)\n",
        "          print(\"Goal:\", self.goal)\n",
        "\n",
        "class ClubOfficers(ClubMembers):\n",
        "# __init__ method of Admin subclass overrides __init___method of User base class\n",
        "\n",
        "    def __init__(self, name, birthday, age, favorite_food, goal, position):\n",
        "          self.position = position\n",
        "          ClubMembers.__init__(self, name, birthday, age, favorite_food, goal)\n",
        "\n",
        "    def display2(self):\n",
        "          print(\"Name:\", self.name)\n",
        "          print(\"Birthday:\", self.birthday)\n",
        "          print(\"Age:\", self.age)\n",
        "          print(\"Favorite food:\", self.favorite_food)\n",
        "          print(\"Position:\", self.position)\n",
        "\n",
        "m_1 = ClubMembers(\"Tom\", \"January 16\", 14, \"Ice cream\", \"to be happy\")\n",
        "o_4 = ClubOfficers(\"Vera\", \"June 22\", 16, \"Beef stroganoff\", \"to be the world's greates chef\", \"Treasurer\")\n",
        "\n",
        "m_1.display1()\n",
        "o_4.display2()"
      ],
      "metadata": {
        "id": "YbuMq9XA1eC6"
      },
      "execution_count": null,
      "outputs": []
    },
    {
      "cell_type": "markdown",
      "source": [
        "**1.10 Coding Challenge**"
      ],
      "metadata": {
        "id": "k-MBFqP4-j8r"
      }
    },
    {
      "cell_type": "code",
      "source": [
        "class Animal:\n",
        "    def __init__(self, type, sound):\n",
        "      self.type = type\n",
        "      self.sound = sound\n",
        "  \n",
        "x = Animal(\"Cow\", \"Moo!\")\n",
        "print(x.sound)"
      ],
      "metadata": {
        "id": "nP7eYoIJ-uFR"
      },
      "execution_count": null,
      "outputs": []
    },
    {
      "cell_type": "code",
      "source": [
        "class Employee:\n",
        "  def __init__(self, name, email):\n",
        "    self.name = name\n",
        "    self.email = email\n",
        "\n",
        "class TechDepartment(Employee):\n",
        "  def display(self):\n",
        "    print(\"Name:\", self.name)\n",
        "    print(\"Email:\", self.email)\n",
        "  \n",
        "emp = TechDepartment(\"Lisa\", \"lisa12@gmail.com\")\n",
        "\n",
        "emp.display()\n"
      ],
      "metadata": {
        "id": "JQZEz3I4_iXp"
      },
      "execution_count": null,
      "outputs": []
    },
    {
      "cell_type": "code",
      "source": [
        "class Movies:\n",
        "\n",
        "  website_greeting = \"What movie are you in the mood for?\"\n",
        "\n",
        "  def __init__(self, name, genre, lead_actor, lead_actress):\n",
        "    self.name = name\n",
        "    self.genre = genre\n",
        "    self.lead_actor = lead_actor\n",
        "    self.lead_actress = lead_actress\n",
        "\n",
        "print(Movies.website_greeting)\n"
      ],
      "metadata": {
        "id": "3Hg3LMmrAVXy"
      },
      "execution_count": null,
      "outputs": []
    },
    {
      "cell_type": "code",
      "source": [
        "class Sport:\n",
        "  def __init__(self, type_of_sport, number_of_player, team_name, university):\n",
        "    self.type_of_sport = type_of_sport\n",
        "    self.number_of_player = number_of_player\n",
        "    self.team_name = team_name\n",
        "    self.university = university\n",
        "\n",
        "b = Sport(\"soccer\", 11, \"Sample Name\", \"ABC University\")\n",
        "print(b.type_of_sport)\n"
      ],
      "metadata": {
        "id": "qRHEfOF8BKDp"
      },
      "execution_count": null,
      "outputs": []
    },
    {
      "cell_type": "code",
      "source": [
        "class Artist:\n",
        "  def __init__(self, name, masterpiece):\n",
        "    self.name = name\n",
        "    self.masterpiece = masterpiece\n",
        "\n",
        "  def display1(self):\n",
        "    print(\"Name:\", self.name)\n",
        "    print(\"Masterpiece:\", self.masterpiece)\n",
        "  \n",
        "class Painter(Artist):\n",
        "  def __init__(self, name, masterpiece, paint_type):\n",
        "    self.paint_type = paint_type\n",
        "    super().__init__(name, masterpiece)\n",
        "\n",
        "  def display3(self):\n",
        "      super().display1()\n",
        "      print(\"paint type:\", self.paint_type)\n",
        "\n",
        "p_1 = Painter(\"Van Gogh\", \"Starry Starry Night\", \"landscape\")\n",
        "p_1.display3()\n"
      ],
      "metadata": {
        "id": "XPiyflrmCByp"
      },
      "execution_count": null,
      "outputs": []
    },
    {
      "cell_type": "markdown",
      "source": [
        "2.4 Coding Exercises"
      ],
      "metadata": {
        "id": "2gqIVQcBLf5e"
      }
    },
    {
      "cell_type": "code",
      "source": [
        "flavors = [\"boots\", \"chocolate\", \"strawberry\", \"coockies n' cream\", \"bubblegum\"]\n",
        "toppings = [\"almonds\", \"banana slices\", \"chocolate syrup\", \"caramel syrup\", \"white chocolate chips\"]\n",
        "ice_cream = dict(zip(flavors, toppings))\n",
        "print(ice_cream)\n",
        "\n",
        "ice_cream[\"chocolate\"] = \"blueberries\"\n",
        "ice_cream.update({\"matcha\": \"pistachios\", \"ube\": \"mango slices\"})\n",
        "print(ice_cream)\n"
      ],
      "metadata": {
        "id": "4HlCiuPvDYGq"
      },
      "execution_count": null,
      "outputs": []
    },
    {
      "cell_type": "markdown",
      "source": [
        "2.8 Coding Exercises"
      ],
      "metadata": {
        "id": "Krd6-bpzQMw_"
      }
    },
    {
      "cell_type": "code",
      "source": [
        "groceries = {\"chicken\": 8, \"apples\": 6, \"cucumbers\": 3, \"milk\": 2, \"orange\": 4}\n",
        "remove = groceries.pop(\"orange\")\n",
        "print(groceries)\n",
        "\n"
      ],
      "metadata": {
        "id": "3OWAsEU6QPDu"
      },
      "execution_count": null,
      "outputs": []
    },
    {
      "cell_type": "code",
      "source": [
        "speakers = {\"Sir Rafael\": 54, \"Ms. Joan\": 33, \"Ms. Dana\": 67}\n",
        "\n",
        "name = speakers.keys()\n",
        "print(name)"
      ],
      "metadata": {
        "id": "ocGO69xXQpeQ"
      },
      "execution_count": null,
      "outputs": []
    },
    {
      "cell_type": "code",
      "source": [
        "tryout_result = {\"Carl\": \"passed\", \"Quentin\": \"failed\", \"John Y.\": \"passed\", \"Peter\": \"failed\", \"Max T.\": \"passed\", \"Joseph\": \"passed\", \"Jone\": \"failed\", \"Jorge\": \"failed\", \"Goerge\": \"passed\", \"Ben\": \"passed\", \"Jerome\": \"passed\", \"Rick\": \"failed\", \"Max G.\": \"failed\", \"John P.\": \"failed\", \"Vince\": \"passed\"}\n",
        "\n",
        "print(tryout_result.get(\"Jorge\")) "
      ],
      "metadata": {
        "id": "wtadHLqRSRa_"
      },
      "execution_count": null,
      "outputs": []
    },
    {
      "cell_type": "markdown",
      "source": [
        "2.12 Coding Challenge"
      ],
      "metadata": {
        "id": "Mo8QIqAzW-tl"
      }
    },
    {
      "cell_type": "code",
      "source": [
        "students = [\"joy\", \"Asha\", \"Oscar\"]\n",
        "vocal_rangers = [\"sopranp\", \"alto\", \"tenor\"]\n",
        "\n",
        "singers = dict(zip(students, vocal_rangers))\n",
        "print(singers)"
      ],
      "metadata": {
        "id": "8d1LZwk5XBE1"
      },
      "execution_count": null,
      "outputs": []
    },
    {
      "cell_type": "code",
      "source": [
        "teacher_info = {\"Name:\": \"Rina\", \"Subjects:\": \"Math\"}\n",
        "\n",
        "for key, value in teacher_info.items():\n",
        "  print(key)\n",
        "  print(value)\n"
      ],
      "metadata": {
        "id": "bBRe7g4lXk0l"
      },
      "execution_count": null,
      "outputs": []
    },
    {
      "cell_type": "code",
      "source": [
        "weather_in_asia = {\"Japan\": 22, \"Malaysia\":  25, \"Philippines\": 48}\n",
        "weather_in_asia[\"Singapore\"]= 27\n",
        "print(weather_in_asia)\n"
      ],
      "metadata": {
        "id": "Yymts4jyi5_O"
      },
      "execution_count": null,
      "outputs": []
    },
    {
      "cell_type": "code",
      "source": [
        "toys ={\"dolls\": 4, \"toy cars\": 5, \"legos\": 50}\n",
        "print(toys)"
      ],
      "metadata": {
        "id": "PovW-x1njiDM"
      },
      "execution_count": null,
      "outputs": []
    },
    {
      "cell_type": "code",
      "source": [
        "school_supplies = {\"pencils\": 2, \"pens\": 4, \"eraser\": 1}\n",
        "(school_supplies.get(\"pad paper\"))"
      ],
      "metadata": {
        "id": "3TOjT-Iqj7ac"
      },
      "execution_count": 65,
      "outputs": []
    },
    {
      "cell_type": "markdown",
      "source": [
        "3.4 Coding Exercises"
      ],
      "metadata": {
        "id": "CBj110lol7KL"
      }
    },
    {
      "cell_type": "code",
      "source": [
        "f = open(\"pythonessay.txt\", \"w\")\n",
        "f.write(\"I like Python because it's very interesting.\")\n",
        "f = open(\"pythonessay.txt\", \"a\")\n",
        "f.write(\"\\nI plan to lear data visualization.\")\n",
        "f.write(\"\\ni want to work in the field of data science.\")\n",
        "f.write(\"\\nI plan to make a beeter world for the furture geneeration.\")\n",
        "f = open(\"pythonessay.txt\", \"r\")\n",
        "f.close()"
      ],
      "metadata": {
        "id": "AlzVNrYFl9JM"
      },
      "execution_count": 68,
      "outputs": []
    },
    {
      "cell_type": "markdown",
      "source": [
        "3.8 Coding Exercises"
      ],
      "metadata": {
        "id": "KiDzbtMEpMzj"
      }
    },
    {
      "cell_type": "code",
      "source": [
        "f = open(\"pythonessay.txt\", \"r\")\n",
        "print(f.read())\n",
        "print(f.readline())\n",
        "f = open(\"pythonessay.txt\", \"r\")\n",
        "for x in f:\n",
        "    print(x)\n",
        "import os\n",
        "if os.path.exists(\"pythonessay.txt\"):\n",
        "  os.remove(\"pythonessay.txt\")\n",
        "else:\n",
        "  print(\"the file does not exist\")"
      ],
      "metadata": {
        "id": "Eu_9B3X-pMi7"
      },
      "execution_count": null,
      "outputs": []
    },
    {
      "cell_type": "markdown",
      "source": [
        "3.12 Coding Exercises"
      ],
      "metadata": {
        "id": "WNySJ_7et6rL"
      }
    },
    {
      "cell_type": "code",
      "source": [
        "x = 500\n",
        "if x > 100:\n",
        "  raise Exception(\"This code will result in an error if x is bigger than 100.\")"
      ],
      "metadata": {
        "id": "2-DyX2gDt6aD"
      },
      "execution_count": null,
      "outputs": []
    },
    {
      "cell_type": "code",
      "source": [
        "try:\n",
        "  print(variable_1)\n",
        "\n",
        "except:\n",
        "  print(\"variable_1 is not yet defined\")"
      ],
      "metadata": {
        "id": "bPi__2osuej-"
      },
      "execution_count": null,
      "outputs": []
    },
    {
      "cell_type": "code",
      "source": [
        "for i in range(6):\n",
        "  print(\"I'm so happy!\")"
      ],
      "metadata": {
        "id": "Fqu3IMF3usip"
      },
      "execution_count": null,
      "outputs": []
    },
    {
      "cell_type": "code",
      "source": [
        "try:\n",
        "  print(12 * 6)\n",
        "except:\n",
        "  print(\"this operation can't be performed.\")\n",
        "else:\n",
        "  print(\"This operation can be performed.\")"
      ],
      "metadata": {
        "id": "pMR1pvj6uztZ"
      },
      "execution_count": null,
      "outputs": []
    },
    {
      "cell_type": "code",
      "source": [
        "best_burger = \"Burger King\"\n",
        "number_2_burger = \"McDonald's\"\n",
        "\n",
        "assert best_burger == \"Burger King\"\n",
        "assert best_burger == \"McDonald's\""
      ],
      "metadata": {
        "id": "F_Mjx4k7vGgx"
      },
      "execution_count": null,
      "outputs": []
    },
    {
      "cell_type": "markdown",
      "source": [
        "3.13 Coding Challenge"
      ],
      "metadata": {
        "id": "gjL_sxKuvqJa"
      }
    },
    {
      "cell_type": "code",
      "source": [
        "try:\n",
        "  print(y)\n",
        "except NameError:\n",
        "  print(\"Whoops! Don't forget to define your variable.\")"
      ],
      "metadata": {
        "colab": {
          "base_uri": "https://localhost:8080/"
        },
        "id": "d4jBT9RtvsTq",
        "outputId": "5d34168c-4b1b-42db-afc6-519e27f221dd"
      },
      "execution_count": 98,
      "outputs": [
        {
          "output_type": "stream",
          "name": "stdout",
          "text": [
            "Whoops! Don't forget to define your variable.\n"
          ]
        }
      ]
    },
    {
      "cell_type": "code",
      "source": [
        "#Return the first 5 characters of the file\n",
        "f = open(\"HEllo.text\", \"r\")\n",
        "print(f.read(5))\n",
        "f.close()"
      ],
      "metadata": {
        "id": "CACblBmpwVAK"
      },
      "execution_count": null,
      "outputs": []
    },
    {
      "cell_type": "code",
      "source": [
        "print(153 + \"twenty-one\" + 33)\n"
      ],
      "metadata": {
        "id": "k76lPnWhxk_S"
      },
      "execution_count": null,
      "outputs": []
    },
    {
      "cell_type": "code",
      "source": [
        "try:\n",
        "  print(amount_of_strawberries)\n",
        "except:\n",
        "  print(\"Something's missing.\")\n",
        "finally:\n",
        "  print(\"It's fine, let's print!\")"
      ],
      "metadata": {
        "colab": {
          "base_uri": "https://localhost:8080/"
        },
        "id": "8RnMlMA7xv4L",
        "outputId": "912a49a6-4e86-4c99-d49c-aa56494f9139"
      },
      "execution_count": 113,
      "outputs": [
        {
          "output_type": "stream",
          "name": "stdout",
          "text": [
            "Something's missing.\n",
            "It's fine, let's print!\n"
          ]
        }
      ]
    },
    {
      "cell_type": "code",
      "source": [
        "f = open(\"newfile.txt\", \"r\")\n",
        "for x in f:\n",
        "  print(x)"
      ],
      "metadata": {
        "id": "eFfLN8GVyHzc"
      },
      "execution_count": null,
      "outputs": []
    },
    {
      "cell_type": "markdown",
      "source": [
        "4.4 Coding Exercises"
      ],
      "metadata": {
        "id": "VqSmmxPG0I7q"
      }
    },
    {
      "cell_type": "code",
      "source": [
        "f = open(\"functionfile.py\", \"x\")\n"
      ],
      "metadata": {
        "colab": {
          "base_uri": "https://localhost:8080/",
          "height": 165
        },
        "id": "niIXGtN30LLQ",
        "outputId": "e726a299-26f9-4d1a-f33b-b36ceca1bfed"
      },
      "execution_count": 137,
      "outputs": [
        {
          "output_type": "error",
          "ename": "FileExistsError",
          "evalue": "ignored",
          "traceback": [
            "\u001b[0;31m---------------------------------------------------------------------------\u001b[0m",
            "\u001b[0;31mFileExistsError\u001b[0m                           Traceback (most recent call last)",
            "\u001b[0;32m<ipython-input-137-b689a0faee6f>\u001b[0m in \u001b[0;36m<module>\u001b[0;34m()\u001b[0m\n\u001b[0;32m----> 1\u001b[0;31m \u001b[0mf\u001b[0m \u001b[0;34m=\u001b[0m \u001b[0mopen\u001b[0m\u001b[0;34m(\u001b[0m\u001b[0;34m\"functionfile.py\"\u001b[0m\u001b[0;34m,\u001b[0m \u001b[0;34m\"x\"\u001b[0m\u001b[0;34m)\u001b[0m\u001b[0;34m\u001b[0m\u001b[0;34m\u001b[0m\u001b[0m\n\u001b[0m",
            "\u001b[0;31mFileExistsError\u001b[0m: [Errno 17] File exists: 'functionfile.py'"
          ]
        }
      ]
    },
    {
      "cell_type": "code",
      "source": [
        "from functionfile import personal_greeting\n",
        "from functionfile import your_province\n",
        "\n",
        "personal_greeting(\"Anna\")\n",
        "your_province(\"Pampanga\")"
      ],
      "metadata": {
        "id": "K9sJGd_-19Oq"
      },
      "execution_count": null,
      "outputs": []
    },
    {
      "cell_type": "markdown",
      "source": [
        "4.8 Coding Exercises"
      ],
      "metadata": {
        "id": "VwZz-JSN4Uth"
      }
    },
    {
      "cell_type": "code",
      "source": [
        "help(modules)"
      ],
      "metadata": {
        "id": "kEpsqMiZ4qcw"
      },
      "execution_count": null,
      "outputs": []
    },
    {
      "cell_type": "code",
      "source": [
        "help (\"sched\")"
      ],
      "metadata": {
        "id": "GQsmFEIs4W4Q"
      },
      "execution_count": null,
      "outputs": []
    },
    {
      "cell_type": "markdown",
      "source": [
        "4.11 FINAL ASSESSMENT"
      ],
      "metadata": {
        "id": "cjj0V1zV5FVw"
      }
    },
    {
      "cell_type": "code",
      "source": [
        "# Creates a .txt file name \"staffinforation\"\n",
        "f = open(\"staffinformation.py\", \"x\")\n"
      ],
      "metadata": {
        "id": "YqPocFgH5H0B"
      },
      "execution_count": null,
      "outputs": []
    },
    {
      "cell_type": "code",
      "source": [
        "f = open(\"staffinformation.py\", \"x\")\n",
        "f.close()"
      ],
      "metadata": {
        "id": "cnnajaX06KoY"
      },
      "execution_count": null,
      "outputs": []
    },
    {
      "cell_type": "code",
      "source": [
        "class Sitcoms:\n",
        "  genre = \"Comedy\"\n",
        "\n",
        "friends = Sitcoms()\n",
        "print(friends.genre)"
      ],
      "metadata": {
        "id": "Vm4ApTo-6abX"
      },
      "execution_count": null,
      "outputs": []
    },
    {
      "cell_type": "code",
      "source": [
        "available = {\"sticker\": 20, \"pen\": 15, \"bracelet\": 50}\n",
        "sold_out = available.pop(\"sticker\")\n",
        "print(available)"
      ],
      "metadata": {
        "colab": {
          "base_uri": "https://localhost:8080/"
        },
        "id": "OAUa-tVd7THo",
        "outputId": "f44a3e2e-3165-495e-95ce-add28c7f66c1"
      },
      "execution_count": 148,
      "outputs": [
        {
          "output_type": "stream",
          "name": "stdout",
          "text": [
            "{'pen': 15, 'bracelet': 50}\n"
          ]
        }
      ]
    },
    {
      "cell_type": "code",
      "source": [
        "n = 100\n",
        "if n < 50:\n",
        "  raise Exception(\"No numbers bigger than 50, please!\")"
      ],
      "metadata": {
        "id": "chINi3h88ImB"
      },
      "execution_count": 153,
      "outputs": []
    },
    {
      "cell_type": "code",
      "source": [
        "partners = {\"Sam,\": \"Eric\", \"Ron\": \"Matilda\", \"Alex\":\"Pat\"}\n",
        "partner_1 = partners.keys()\n",
        "print(partner_1)"
      ],
      "metadata": {
        "id": "G4Ijlv0E8bpq"
      },
      "execution_count": null,
      "outputs": []
    },
    {
      "cell_type": "code",
      "source": [
        "class Menu:\n",
        "  greeting = \"Welcome to Warren;s Buffet!\"\n",
        "\n",
        "  def __init__(self, food_item, side_dish, price):\n",
        "      self.food_item = food_item\n",
        "      self.side_dish = side_dish\n",
        "      self.price = price\n",
        "\n",
        "d_1 = Menu (\"Lasagna\", \"Buttered vegetable\",450)\n",
        "d_2 = Menu (\"Roast beed\", \"Mashed potatoes\", 525)\n",
        "print(d_2.side_dish)"
      ],
      "metadata": {
        "colab": {
          "base_uri": "https://localhost:8080/"
        },
        "id": "bSfFiaxf81Uw",
        "outputId": "30d03f17-4a21-4a9b-e03c-d801a370cbbc"
      },
      "execution_count": 160,
      "outputs": [
        {
          "output_type": "stream",
          "name": "stdout",
          "text": [
            "Mashed potatoes\n"
          ]
        }
      ]
    },
    {
      "cell_type": "code",
      "source": [
        "try:\n",
        "  print(d)\n",
        "expect:\n",
        "print(\"this will lead to a TypeError!\")\n",
        "else:\n",
        "  print(\"run the code, please\")"
      ],
      "metadata": {
        "id": "TSmAK08k-Rvw"
      },
      "execution_count": null,
      "outputs": []
    }
  ]
}